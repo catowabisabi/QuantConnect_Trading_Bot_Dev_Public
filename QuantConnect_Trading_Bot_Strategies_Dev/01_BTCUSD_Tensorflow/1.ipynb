{
 "cells": [
  {
   "cell_type": "code",
   "execution_count": 1,
   "metadata": {},
   "outputs": [],
   "source": [
    "from keras.utils.generic_utils import serialize_keras_object\n",
    "from tensorflow.keras import utils\n",
    "from tensorflow.keras.models import Sequential\n",
    "from tensorflow.keras.layers import Dense, Flatten\n",
    "import json"
   ]
  },
  {
   "cell_type": "code",
   "execution_count": 2,
   "metadata": {},
   "outputs": [
    {
     "ename": "NameError",
     "evalue": "name 'datetime' is not defined",
     "output_type": "error",
     "traceback": [
      "\u001b[1;31m---------------------------------------------------------------------------\u001b[0m",
      "\u001b[1;31mNameError\u001b[0m                                 Traceback (most recent call last)",
      "\u001b[1;32mUntitled-1.ipynb Cell 2'\u001b[0m in \u001b[0;36m<cell line: 2>\u001b[1;34m()\u001b[0m\n\u001b[0;32m      <a href='vscode-notebook-cell:Untitled-1.ipynb?jupyter-notebook#ch0000001untitled?line=0'>1</a>\u001b[0m \u001b[39m# 設定機器學習所使用資料的年期 - 可以修改\u001b[39;00m\n\u001b[1;32m----> <a href='vscode-notebook-cell:Untitled-1.ipynb?jupyter-notebook#ch0000001untitled?line=1'>2</a>\u001b[0m start \u001b[39m=\u001b[39m datetime(\u001b[39m2017\u001b[39m, \u001b[39m1\u001b[39m, \u001b[39m1\u001b[39m)\n\u001b[0;32m      <a href='vscode-notebook-cell:Untitled-1.ipynb?jupyter-notebook#ch0000001untitled?line=2'>3</a>\u001b[0m end \u001b[39m=\u001b[39m datetime(\u001b[39m2022\u001b[39m, \u001b[39m1\u001b[39m, \u001b[39m1\u001b[39m)\n",
      "\u001b[1;31mNameError\u001b[0m: name 'datetime' is not defined"
     ]
    }
   ],
   "source": [
    "# 設定機器學習所使用資料的年期 - 可以修改\n",
    "start = datetime(2017, 1, 1)\n",
    "end = datetime(2022, 1, 1)\n"
   ]
  },
  {
   "cell_type": "code",
   "execution_count": null,
   "metadata": {},
   "outputs": [],
   "source": [
    "# QuantBook 可以使用所有的QC research API\n",
    "qb = QuantBook()\n",
    "# 設定要練習的資料的symbol, 在這是合是BTCUSD每日的線\n",
    "symbol = qb.AddCrypto(\"BTCUSD\", Resolution.Daily).Symbol\n",
    "# symbol = qb.AddEquity(\"SPY\", Resolution.Daily).Symbol\n",
    "# 會之前兩年的資料, 拿symbol的那一行的資料\n",
    "history = qb.History(symbol, start, end).loc[symbol]\n",
    "history.head()"
   ]
  },
  {
   "cell_type": "code",
   "execution_count": null,
   "metadata": {},
   "outputs": [],
   "source": [
    "# 拿每一日的開收巿價, 最高最底價和成交量變化的百份比\n",
    "daily_pct_change = history[[\"open\", \"high\", \"low\", \"close\", \"volume\"]].pct_change().dropna()\n",
    "df = daily_pct_change\n",
    "df.head()"
   ]
  },
  {
   "cell_type": "code",
   "execution_count": null,
   "metadata": {},
   "outputs": [],
   "source": [
    "# 呢句我唔太明, 但佢既意思係係df入邊, 如果佢volume係無限大, 拎佢既index出黎\n",
    "# 然後這些index 做一個drop indexes動作\n",
    "\n",
    "indexes = df[((df.volume == float(\"inf\")))].index\n",
    "for i in indexes:\n",
    "    df.at[i, \"volume\"] = max(df.volume.drop(indexes))\n",
    "    "
   ]
  },
  {
   "cell_type": "code",
   "execution_count": null,
   "metadata": {},
   "outputs": [],
   "source": [
    "#要放D DATA 入去神經網絡, 要有特定資料format\n",
    "\n",
    "# 要入前30日的資料, 所以呢30日唔要\n",
    "n_steps = 30\n",
    "features = [] # 入的資料\n",
    "labels = [] # 想佢出的資料\n",
    "\n",
    "\n",
    "# 由最新既資料到最後既資料, 唔要最尾尾個30日\n",
    "for i in range(len(df)-n_steps):\n",
    "\n",
    "        \n",
    "    input_data = df.iloc[i:i+n_steps].values\n",
    "    features.append(input_data)\n",
    "    if df['close'].iloc[i+n_steps] >= 0:\n",
    "        # UP # 升價\n",
    "        label = 1\n",
    "    else:\n",
    "        # DOWN 降價\n",
    "        label = 0\n",
    "    labels.append(label)"
   ]
  },
  {
   "cell_type": "code",
   "execution_count": null,
   "metadata": {},
   "outputs": [],
   "source": [
    "# 變為numpy array, 因為呢個係Tensorflow需要用既格式\n",
    "features = np.array(features)\n",
    "labels = np.array(labels)"
   ]
  },
  {
   "cell_type": "code",
   "execution_count": null,
   "metadata": {},
   "outputs": [],
   "source": [
    "#用 7成既資料去做Training data\n",
    "#之後3成就做testing \n",
    "\n",
    "train_length = int(len(features) * 0.7)\n",
    "X_train = features[:train_length]\n",
    "X_test = features[train_length:]\n",
    "y_train = labels[:train_length]\n",
    "y_test = labels[train_length:]"
   ]
  },
  {
   "cell_type": "code",
   "execution_count": null,
   "metadata": {},
   "outputs": [],
   "source": [
    "# number of up vs down days in training data should be relatively balanced\n",
    "# check下本身有幾多日係升\n",
    "sum(y_train)/len(y_train)"
   ]
  },
  {
   "cell_type": "code",
   "execution_count": null,
   "metadata": {},
   "outputs": [],
   "source": [
    "# use second part of data for training instead\n",
    "# 用後邊個一半去做training\n",
    "test_length = int(len(features) * 0.3)\n",
    "X_train = features[test_length:]\n",
    "X_test = features[:test_length]\n",
    "y_train = labels[test_length:]\n",
    "y_test = labels[:test_length]"
   ]
  },
  {
   "cell_type": "code",
   "execution_count": null,
   "metadata": {},
   "outputs": [],
   "source": [
    "# check下本身有幾多日係升\n",
    "sum(y_train)/len(y_train)"
   ]
  },
  {
   "cell_type": "code",
   "execution_count": null,
   "metadata": {},
   "outputs": [],
   "source": [
    "# Keras\n",
    "model = Sequential([Dense(30, input_shape=X_train[0].shape, activation='relu'),\n",
    "                    Dense(20, activation='relu'),\n",
    "                    Flatten(),\n",
    "                    Dense(1, activation='sigmoid')])"
   ]
  },
  {
   "cell_type": "code",
   "execution_count": null,
   "metadata": {},
   "outputs": [],
   "source": [
    "model.compile(loss='binary_crossentropy',\n",
    "                optimizer='adam',\n",
    "                metrics=['accuracy', 'mse'])"
   ]
  },
  {
   "cell_type": "code",
   "execution_count": null,
   "metadata": {},
   "outputs": [],
   "source": [
    "model.fit(X_train, y_train, epochs=50)"
   ]
  },
  {
   "cell_type": "code",
   "execution_count": null,
   "metadata": {},
   "outputs": [],
   "source": [
    "# 試下得唔得,\n",
    "y_hat = model.predict(X_test)"
   ]
  },
  {
   "cell_type": "code",
   "execution_count": null,
   "metadata": {},
   "outputs": [],
   "source": [
    "#出返個results\n",
    "results = pd.DataFrame({'y': y_test.flatten(), 'y_hat': y_hat.flatten()})"
   ]
  },
  {
   "cell_type": "code",
   "execution_count": null,
   "metadata": {},
   "outputs": [],
   "source": [
    "# 畫圖\n",
    "results.plot(title='Model Performance: predicted vs actual %change in closing price', figsize=(30, 7))\n"
   ]
  },
  {
   "cell_type": "code",
   "execution_count": null,
   "metadata": {},
   "outputs": [],
   "source": [
    "# 寫出這個學習的結果\n",
    "pred_train= model.predict(X_train)\n",
    "scores = model.evaluate(X_train, y_train, verbose=0)\n",
    "print('Accuracy on training data: {}% \\n Error on training data: {}'.format(scores[1], 1 - scores[1]))\n",
    "\n",
    "# 寫出這個測試的結果\n",
    "pred_test= model.predict(X_test)\n",
    "scores2 = model.evaluate(X_test, y_test, verbose=0)\n",
    "print('Accuracy on test data: {}% \\n Error on test data: {}'.format(scores2[1], 1 - scores2[1]))\n"
   ]
  },
  {
   "cell_type": "markdown",
   "metadata": {},
   "source": [
    "Save Model"
   ]
  },
  {
   "cell_type": "code",
   "execution_count": null,
   "metadata": {},
   "outputs": [],
   "source": [
    "# 存左個模型入去model str\n",
    "model_str = json.dumps(serialize_keras_object(model))\n"
   ]
  },
  {
   "cell_type": "code",
   "execution_count": null,
   "metadata": {},
   "outputs": [],
   "source": [
    "# 比一個model key個model\n",
    "model_key = 'bitcoin_price_predictor'\n"
   ]
  },
  {
   "cell_type": "markdown",
   "metadata": {},
   "source": [
    "Load Model"
   ]
  },
  {
   "cell_type": "code",
   "execution_count": null,
   "metadata": {},
   "outputs": [],
   "source": [
    "# 如果qb store入邊有model_key, 就拎佢出黎用\n",
    "if qb.ObjectStore.ContainsKey(model_key):\n",
    "    model_str = qb.ObjectStore.Read(model_key)\n",
    "    #變成json\n",
    "    config = json.loads(model_str)['config']\n",
    "    #再變成要用既class\n",
    "    model = Sequential.from_config(config)"
   ]
  },
  {
   "cell_type": "code",
   "execution_count": null,
   "metadata": {},
   "outputs": [],
   "source": [
    "# 用黎做測試的Date係用宜家\n",
    "testDate = datetime.now()"
   ]
  },
  {
   "cell_type": "code",
   "execution_count": null,
   "metadata": {},
   "outputs": [],
   "source": [
    "# 拎最近40日既資料\n",
    "df = qb.History(symbol, testDate - timedelta(40), testDate).loc[symbol]\n",
    "df_change = df[[\"open\", \"high\", \"low\", \"close\", \"volume\"]].pct_change().dropna()\n",
    "\n",
    "#變成要用既format\n",
    "model_input = []\n",
    "\n",
    "for index, row in df_change.tail(30).iterrows():\n",
    "    model_input.append(np.array(row))\n",
    "model_input = np.array([model_input])"
   ]
  },
  {
   "cell_type": "code",
   "execution_count": null,
   "metadata": {},
   "outputs": [],
   "source": [
    "if round(model.predict(model_input)[0][0]) == 0:\n",
    "    print(\"down\")\n",
    "else:\n",
    "    print(\"up\")"
   ]
  }
 ],
 "metadata": {
  "kernelspec": {
   "display_name": "Python 3.10.5 64-bit",
   "language": "python",
   "name": "python3"
  },
  "language_info": {
   "codemirror_mode": {
    "name": "ipython",
    "version": 3
   },
   "file_extension": ".py",
   "mimetype": "text/x-python",
   "name": "python",
   "nbconvert_exporter": "python",
   "pygments_lexer": "ipython3",
   "version": "3.10.5"
  },
  "orig_nbformat": 4,
  "vscode": {
   "interpreter": {
    "hash": "26de051ba29f2982a8de78e945f0abaf191376122a1563185a90213a26c5da77"
   }
  }
 },
 "nbformat": 4,
 "nbformat_minor": 2
}
